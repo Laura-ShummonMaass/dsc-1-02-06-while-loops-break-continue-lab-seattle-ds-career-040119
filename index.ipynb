{
 "cells": [
  {
   "cell_type": "markdown",
   "metadata": {},
   "source": [
    "# While Loops, Break and Continue - Lab"
   ]
  },
  {
   "cell_type": "markdown",
   "metadata": {},
   "source": [
    "## Introduction\n",
    "In this lab, we will practice using `while` loops, and `break` and `continue` statements in our code. We will use our control flow statements to iterate through collections and filter out or selectively operate on each element. We'll use `while` loops to perform operations until a given condition is no longer true."
   ]
  },
  {
   "cell_type": "markdown",
   "metadata": {},
   "source": [
    "## Objectives\n",
    "You will be able to:\n",
    "* Use a break and continue statements inside a loop\n",
    "* Understand, explain and use while loops"
   ]
  },
  {
   "cell_type": "markdown",
   "metadata": {},
   "source": [
    "## Instructions\n",
    "\n",
    "### While Loops\n",
    "Use while loops to perform the below operations and get the expected return values"
   ]
  },
  {
   "cell_type": "code",
   "execution_count": 14,
   "metadata": {},
   "outputs": [
    {
     "name": "stdout",
     "output_type": "stream",
     "text": [
      "*eats slice of pie*\n",
      "there are only 5 slices of pie left\n",
      "i've had 1 slices of pie, yum\n",
      "*eats slice of pie*\n",
      "there are only 4 slices of pie left\n",
      "i've had 2 slices of pie, yum\n",
      "*eats slice of pie*\n",
      "there are only 3 slices of pie left\n",
      "i've had 3 slices of pie, yum\n",
      "*eats slice of pie*\n",
      "there are only 2 slices of pie left\n",
      "i've had 4 slices of pie, yum\n",
      "*eats slice of pie*\n",
      "there are only 1 slices of pie left\n",
      "i've had 5 slices of pie, yum\n",
      "*eats slice of pie*\n",
      "there are only 0 slices of pie left\n",
      "i've had 6 slices of pie, yum\n"
     ]
    }
   ],
   "source": [
    "slices_of_pie = 6\n",
    "slices_eaten = 0\n",
    "\n",
    "while slices_of_pie >0:\n",
    "    print('*eats slice of pie*')\n",
    "    slices_of_pie -= 1\n",
    "    print('there are only', slices_of_pie, 'slices of pie left')\n",
    "    slices_eaten += 1\n",
    "    print('i\\'ve had', slices_eaten, 'slices of pie, yum')\n",
    "  \n",
    "\n",
    "# use a while loop to eat each slice of pie\n",
    "# add each slice to the slices_eaten variable"
   ]
  },
  {
   "cell_type": "code",
   "execution_count": 15,
   "metadata": {},
   "outputs": [
    {
     "name": "stdout",
     "output_type": "stream",
     "text": [
      "makes 1 pancake in a record speed of 54 seconds...\n",
      "there are only 1414 seconds left!\n",
      "at least i have 1 pancakes made\n",
      "makes 1 pancake in a record speed of 54 seconds...\n",
      "there are only 1360 seconds left!\n",
      "at least i have 2 pancakes made\n",
      "makes 1 pancake in a record speed of 54 seconds...\n",
      "there are only 1306 seconds left!\n",
      "at least i have 3 pancakes made\n",
      "makes 1 pancake in a record speed of 54 seconds...\n",
      "there are only 1252 seconds left!\n",
      "at least i have 4 pancakes made\n",
      "makes 1 pancake in a record speed of 54 seconds...\n",
      "there are only 1198 seconds left!\n",
      "at least i have 5 pancakes made\n",
      "makes 1 pancake in a record speed of 54 seconds...\n",
      "there are only 1144 seconds left!\n",
      "at least i have 6 pancakes made\n",
      "makes 1 pancake in a record speed of 54 seconds...\n",
      "there are only 1090 seconds left!\n",
      "at least i have 7 pancakes made\n",
      "makes 1 pancake in a record speed of 54 seconds...\n",
      "there are only 1036 seconds left!\n",
      "at least i have 8 pancakes made\n",
      "makes 1 pancake in a record speed of 54 seconds...\n",
      "there are only 982 seconds left!\n",
      "at least i have 9 pancakes made\n",
      "makes 1 pancake in a record speed of 54 seconds...\n",
      "there are only 928 seconds left!\n",
      "at least i have 10 pancakes made\n",
      "makes 1 pancake in a record speed of 54 seconds...\n",
      "there are only 874 seconds left!\n",
      "at least i have 11 pancakes made\n",
      "makes 1 pancake in a record speed of 54 seconds...\n",
      "there are only 820 seconds left!\n",
      "at least i have 12 pancakes made\n",
      "makes 1 pancake in a record speed of 54 seconds...\n",
      "there are only 766 seconds left!\n",
      "at least i have 13 pancakes made\n",
      "makes 1 pancake in a record speed of 54 seconds...\n",
      "there are only 712 seconds left!\n",
      "at least i have 14 pancakes made\n",
      "makes 1 pancake in a record speed of 54 seconds...\n",
      "there are only 658 seconds left!\n",
      "at least i have 15 pancakes made\n",
      "makes 1 pancake in a record speed of 54 seconds...\n",
      "there are only 604 seconds left!\n",
      "at least i have 16 pancakes made\n",
      "makes 1 pancake in a record speed of 54 seconds...\n",
      "there are only 550 seconds left!\n",
      "at least i have 17 pancakes made\n",
      "makes 1 pancake in a record speed of 54 seconds...\n",
      "there are only 496 seconds left!\n",
      "at least i have 18 pancakes made\n",
      "makes 1 pancake in a record speed of 54 seconds...\n",
      "there are only 442 seconds left!\n",
      "at least i have 19 pancakes made\n",
      "makes 1 pancake in a record speed of 54 seconds...\n",
      "there are only 388 seconds left!\n",
      "at least i have 20 pancakes made\n",
      "makes 1 pancake in a record speed of 54 seconds...\n",
      "there are only 334 seconds left!\n",
      "at least i have 21 pancakes made\n",
      "makes 1 pancake in a record speed of 54 seconds...\n",
      "there are only 280 seconds left!\n",
      "at least i have 22 pancakes made\n",
      "makes 1 pancake in a record speed of 54 seconds...\n",
      "there are only 226 seconds left!\n",
      "at least i have 23 pancakes made\n",
      "makes 1 pancake in a record speed of 54 seconds...\n",
      "there are only 172 seconds left!\n",
      "at least i have 24 pancakes made\n",
      "makes 1 pancake in a record speed of 54 seconds...\n",
      "there are only 118 seconds left!\n",
      "at least i have 25 pancakes made\n",
      "makes 1 pancake in a record speed of 54 seconds...\n",
      "there are only 64 seconds left!\n",
      "at least i have 26 pancakes made\n",
      "makes 1 pancake in a record speed of 54 seconds...\n",
      "there are only 10 seconds left!\n",
      "at least i have 27 pancakes made\n"
     ]
    }
   ],
   "source": [
    "time_for_breakfast = 1468 # in seconds\n",
    "number_of_cooked_pancakes = 0\n",
    "\n",
    "\n",
    "while time_for_breakfast > (27*2):\n",
    "    print('makes 1 pancake in a record speed of 54 seconds...')\n",
    "    time_for_breakfast -= (27*2)\n",
    "    print('there are only', time_for_breakfast, 'seconds left!')\n",
    "    number_of_cooked_pancakes += 1\n",
    "    print('at least i have', number_of_cooked_pancakes, 'pancakes made')\n",
    "\n",
    "# use a while loop to make yourself 5 pancakes for breakfast\n",
    "# each pancake takes 27 seconds to cook on each side\n",
    "# you must decrease the time_for_breakfast each time you \n",
    "# add a pancake to the skillet (frying pan) or flip a pancake (i.e. 2 times per pancake)\n",
    "# there is only room for one pancake at a time"
   ]
  },
  {
   "cell_type": "markdown",
   "metadata": {},
   "source": [
    "## For Loops"
   ]
  },
  {
   "cell_type": "markdown",
   "metadata": {},
   "source": [
    "> **Hint:** You may find the [remove method](https://www.programiz.com/python-programming/methods/list/remove) to be useful for the next problem"
   ]
  },
  {
   "cell_type": "code",
   "execution_count": 30,
   "metadata": {},
   "outputs": [
    {
     "data": {
      "text/plain": [
       "range(0, 30)"
      ]
     },
     "execution_count": 30,
     "metadata": {},
     "output_type": "execute_result"
    }
   ],
   "source": [
    "# line_of_hungry_patrons = [1, 2, 3, 4, 5, 6 7, 8, 9, 10, 11, 12, 13, 14, 15, 16, 17, 18, ]\n",
    "# fed_patrons = []\n",
    "\n",
    "# for i in line_of_hungry_patrons:\n",
    "#     while fed_patrons < 30:\n",
    "#         if i % 0 == 0:\n",
    "#             fed_patrons += 1\n",
    "#             line_of_hungry_patrons.remove(i)\n",
    "\n",
    "range(0,30)\n",
    "\n",
    "\n",
    "        \n",
    "# use a while loop to to feed the hungry patrons who have an even number\n",
    "# add the patrons with an even number to the fed_patrons list\n",
    "# then remove the even numbered patrons from the line_of_hungry_patrons\n",
    "# each list should contain 15 elements"
   ]
  },
  {
   "cell_type": "markdown",
   "metadata": {},
   "source": [
    "### `break` And `continue` Statements"
   ]
  },
  {
   "cell_type": "markdown",
   "metadata": {},
   "source": [
    "We have a list of person objects with all kinds of attributes. We'll use loops to find a person that meets a certain requirement that we are looking for or create new lists with a certain subset of elements. Write for loops with conditional statements in conjunction with `break` and `continue` to get the desired output."
   ]
  },
  {
   "cell_type": "code",
   "execution_count": null,
   "metadata": {},
   "outputs": [],
   "source": [
    "people = [\n",
    "    {'name': \"Daniel\", 'age': 29, 'job': \"Engineer\", 'pet': \"Cat\", 'pet_name': \"Gato\"}, \n",
    "    {'name': \"Katie\", 'age': 30, 'job': \"Teacher\", 'pet': \"Dog\", 'pet_name': \"Frank\"},\n",
    "    {'name': \"Owen\", 'age': 26, 'job': \"Sales person\", 'pet': \"Cat\", 'pet_name': \"Cosmo\"},\n",
    "    {'name': \"Josh\", 'age': 22, 'job': \"Student\", 'pet': \"Cat\", 'pet_name': \"Chat\"},\n",
    "    {'name': \"Estelle\", 'age': 35, 'job': \"French Diplomat\", 'pet': \"Dog\", 'pet_name': \"Gabby\"},\n",
    "    {'name': \"Gustav\", 'age': 24, 'job': \"Brewer\", 'pet': \"Dog\", 'pet_name': \"Helen\"}\n",
    "]"
   ]
  },
  {
   "cell_type": "code",
   "execution_count": null,
   "metadata": {},
   "outputs": [],
   "source": [
    "# use the for loop below to find the *first* person in the list of people that has a dog as their pet\n",
    "# the iteration count shouldn't exceed 2 iterations\n",
    "first_dog_person = None\n",
    "iteration_count = 0\n",
    "for person in people:\n",
    "    iteration_count += 1\n",
    "    pass"
   ]
  },
  {
   "cell_type": "code",
   "execution_count": null,
   "metadata": {},
   "outputs": [],
   "source": [
    "# use a for loop to create a list of the cat owners who are under the age of 28\n",
    "cat_owners = None\n",
    "# for loop goes here"
   ]
  },
  {
   "cell_type": "code",
   "execution_count": null,
   "metadata": {},
   "outputs": [],
   "source": [
    "# use a for loop to find the first person who is above 29 years old in our list of people\n",
    "# remember to use a break and or continue statement\n",
    "thirty_something_yr_old = None\n",
    "# for loop goes here"
   ]
  },
  {
   "cell_type": "code",
   "execution_count": null,
   "metadata": {},
   "outputs": [],
   "source": [
    "# use a for loop to create a list of person names and another list of pet names for all dog owners\n",
    "dog_owner_names = None\n",
    "dog_names = None\n",
    "# for loop goes here"
   ]
  },
  {
   "cell_type": "code",
   "execution_count": null,
   "metadata": {},
   "outputs": [],
   "source": [
    "# use a for loop to create a list of odd numbers from the list of numbers from 0 to 100\n",
    "# each time there is an odd number, add 10 to it and append it to the list_of_odd_numbers_plus_ten\n",
    "# stop adding numbers to the list when there are 35 numbers\n",
    "# use break and continue statements in your code\n",
    "list_of_numbers = list(range(0,100))\n",
    "list_of_odd_numbers_plus_ten = []\n",
    "for number in list_of_numbers:\n",
    "    pass"
   ]
  },
  {
   "cell_type": "markdown",
   "metadata": {},
   "source": [
    "## Summary"
   ]
  },
  {
   "cell_type": "markdown",
   "metadata": {},
   "source": [
    "In this lab, we practiced using while loops, which continue executing their block of code until the given condition is no longer truthy. This is useful for instances where we do not have a collection or do not need a collection to solve our problem, especially when we would only like to stop the process according to a certain condition. We then practiced using control flow statements, `break` and `continue`, to selectively operate on elements, append them to new lists, or assign them to new variables."
   ]
  }
 ],
 "metadata": {
  "kernelspec": {
   "display_name": "Python 3",
   "language": "python",
   "name": "python3"
  },
  "language_info": {
   "codemirror_mode": {
    "name": "ipython",
    "version": 3
   },
   "file_extension": ".py",
   "mimetype": "text/x-python",
   "name": "python",
   "nbconvert_exporter": "python",
   "pygments_lexer": "ipython3",
   "version": "3.6.6"
  }
 },
 "nbformat": 4,
 "nbformat_minor": 2
}
